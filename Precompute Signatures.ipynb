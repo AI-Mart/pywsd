{
 "cells": [
  {
   "cell_type": "code",
   "execution_count": 1,
   "metadata": {},
   "outputs": [
    {
     "name": "stderr",
     "output_type": "stream",
     "text": [
      "Warming up PyWSD (takes ~10 secs)... took 7.013277053833008 secs.\n"
     ]
    }
   ],
   "source": [
    "import sys\n",
    "import time\n",
    "\n",
    "import pandas as pd\n",
    "\n",
    "from nltk.corpus import wordnet as wn\n",
    "\n",
    "from pywsd.utils import lemmatize\n",
    "from pywsd.lesk import synset_signatures"
   ]
  },
  {
   "cell_type": "code",
   "execution_count": null,
   "metadata": {},
   "outputs": [],
   "source": [
    "all_signatures = []\n",
    "\n",
    "start = time.time()\n",
    "for ss in wn.all_synsets():\n",
    "    ss_signature = {}\n",
    "    offset = ss.offset()\n",
    "    pos = ss.pos()\n",
    "    idx = str(offset).zfill(8) + '-' + pos\n",
    "    \n",
    "    ss_signature['simple'] = synset_signatures(ss, hyperhypo=True, adapted=False,\n",
    "                                               remove_stopwords=True, \n",
    "                                               to_lemmatize=True, remove_numbers=True,\n",
    "                                               lowercase=True)\n",
    "    \n",
    "    ss_signature['adapted'] = synset_signatures(ss, hyperhypo=True, adapted=True,\n",
    "                                                   remove_stopwords=True, \n",
    "                                                   to_lemmatize=True, remove_numbers=True,\n",
    "                                                   lowercase=True)\n",
    "    \n",
    "    ss_signature['original'] = synset_signatures(ss, original_lesk=True,\n",
    "                                                 remove_stopwords=True, \n",
    "                                                 to_lemmatize=True, remove_numbers=True,\n",
    "                                                 lowercase=True)\n",
    "    \n",
    "    \n",
    "    all_signatures.append({'name': ss.name(), 'offset-pos': idx, \n",
    "                           'original': ss_signature['original'], \n",
    "                           'simple': ss_signature['simple'], \n",
    "                           'adapted':ss_signature['adapted']})\n",
    "\n",
    "print('took{}'.format(time.time() - start), file=sys.stderr)"
   ]
  },
  {
   "cell_type": "code",
   "execution_count": null,
   "metadata": {},
   "outputs": [],
   "source": [
    "df = pd.DataFrame(all_signatures)\n",
    "df.head()"
   ]
  },
  {
   "cell_type": "code",
   "execution_count": null,
   "metadata": {},
   "outputs": [],
   "source": [
    "pywsd_signatures = df.set_index('name').T\n",
    "pywsd_signatures.head()"
   ]
  },
  {
   "cell_type": "code",
   "execution_count": 6,
   "metadata": {},
   "outputs": [],
   "source": [
    "pywsd_signatures.to_pickle('signatures.pkl',protocol=2)"
   ]
  },
  {
   "cell_type": "code",
   "execution_count": null,
   "metadata": {},
   "outputs": [],
   "source": []
  }
 ],
 "metadata": {
  "kernelspec": {
   "display_name": "Python 3",
   "language": "python",
   "name": "python3"
  },
  "language_info": {
   "codemirror_mode": {
    "name": "ipython",
    "version": 3
   },
   "file_extension": ".py",
   "mimetype": "text/x-python",
   "name": "python",
   "nbconvert_exporter": "python",
   "pygments_lexer": "ipython3",
   "version": "3.6.4rc1"
  }
 },
 "nbformat": 4,
 "nbformat_minor": 2
}
